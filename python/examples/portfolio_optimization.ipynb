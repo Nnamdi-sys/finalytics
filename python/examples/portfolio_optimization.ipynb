{
 "cells": [
  {
   "cell_type": "markdown",
   "id": "e9357192-6d2c-4f2b-9bde-515cfde857d1",
   "metadata": {},
   "source": [
    "<p align=\"center\">\n",
    "  <img src=\"https://github.com/Nnamdi-sys/finalytics/raw/main/logo-color.png\" alt=\"Finalytics Logo\">\n",
    "</p>"
   ]
  },
  {
   "cell_type": "code",
   "execution_count": 1,
   "id": "3aba6e20-645b-4c93-afab-4efe98055892",
   "metadata": {},
   "outputs": [],
   "source": [
    "%%capture\n",
    "!pip install finalytics"
   ]
  },
  {
   "cell_type": "code",
   "execution_count": 2,
   "id": "5874b5a5-3700-485b-a72b-ae7693e5bad1",
   "metadata": {},
   "outputs": [],
   "source": [
    "from finalytics import Portfolio"
   ]
  },
  {
   "cell_type": "code",
   "execution_count": 3,
   "id": "136f4605-16e8-412a-8a88-a44fb16c7f53",
   "metadata": {},
   "outputs": [],
   "source": [
    "ticker_symbols = [\"AAPL\", \"MSFT\", \"NVDA\", \"BTC-USD\"]\n",
    "benchmark_symbol = \"^GSPC\"\n",
    "start_date = \"2019-01-01\"\n",
    "end_date = \"2023-12-31\"\n",
    "interval = \"1d\"\n",
    "confidence_level = 0.95\n",
    "risk_free_rate = 0.04\n",
    "max_iterations = 10000\n",
    "objective = \"max_sharpe\""
   ]
  },
  {
   "cell_type": "code",
   "execution_count": 4,
   "id": "365ac428-c57d-47da-97c8-1c7993b418ae",
   "metadata": {},
   "outputs": [],
   "source": [
    "portfolio = Portfolio(ticker_symbols, \n",
    "                      benchmark_symbol, \n",
    "                      start_date, \n",
    "                      end_date, \n",
    "                      interval, \n",
    "                      confidence_level, \n",
    "                      risk_free_rate, \n",
    "                      max_iterations, \n",
    "                      objective)"
   ]
  },
  {
   "cell_type": "code",
   "execution_count": 5,
   "id": "e707942f-3c0f-4148-a4cc-a6016a377402",
   "metadata": {},
   "outputs": [
    {
     "data": {
      "text/plain": [
       "{'ticker_symbols': ['AAPL', 'MSFT', 'NVDA', 'BTC-USD'],\n",
       " 'benchmark_symbol': '^GSPC',\n",
       " 'start_date': '2019-01-01',\n",
       " 'end_date': '2023-12-31',\n",
       " 'interval': '1d',\n",
       " 'confidence_level': 0.95,\n",
       " 'risk_free_rate': 0.04,\n",
       " 'portfolio_returns': shape: (1_825, 4)\n",
       " ┌───────────┬───────────┬──────────┬───────────┐\n",
       " │ AAPL      ┆ MSFT      ┆ NVDA     ┆ BTC-USD   │\n",
       " │ ---       ┆ ---       ┆ ---      ┆ ---       │\n",
       " │ f64       ┆ f64       ┆ f64      ┆ f64       │\n",
       " ╞═══════════╪═══════════╪══════════╪═══════════╡\n",
       " │ 0.0       ┆ 0.0       ┆ 0.0      ┆ 0.0       │\n",
       " │ 0.0       ┆ 0.0       ┆ 0.0      ┆ 2.598904  │\n",
       " │ -9.960737 ┆ -3.678799 ┆ -6.0417  ┆ -2.704974 │\n",
       " │ 4.26893   ┆ 4.650923  ┆ 6.406754 ┆ 0.546722  │\n",
       " │ …         ┆ …         ┆ …        ┆ …         │\n",
       " │ 0.051795  ┆ -0.157475 ┆ 0.280039 ┆ 2.169436  │\n",
       " │ 0.222629  ┆ 0.323467  ┆ 0.212475 ┆ -1.876028 │\n",
       " │ -0.542413 ┆ 0.202518  ┆ 0.0      ┆ -1.23969  │\n",
       " │ -0.542413 ┆ 0.202518  ┆ 0.0      ┆ 0.136582  │\n",
       " └───────────┴───────────┴──────────┴───────────┘,\n",
       " 'benchmark_returns': shape: (1_825,)\n",
       " Series: '' [f64]\n",
       " [\n",
       " \t0.0\n",
       " \t0.0\n",
       " \t-2.475673\n",
       " \t3.433571\n",
       " \t3.433571\n",
       " \t3.433571\n",
       " \t0.701043\n",
       " \t0.969529\n",
       " \t0.409805\n",
       " \t0.451842\n",
       " \t-0.01463\n",
       " \t-0.01463\n",
       " \t…\n",
       " \t0.452834\n",
       " \t0.586641\n",
       " \t-1.468427\n",
       " \t1.030147\n",
       " \t0.166006\n",
       " \t0.166006\n",
       " \t0.166006\n",
       " \t0.166006\n",
       " \t0.423169\n",
       " \t0.143046\n",
       " \t0.037017\n",
       " \t-0.282648\n",
       " \t-0.282648\n",
       " ],\n",
       " 'objective_function': 'Maximize Sharpe Ratio',\n",
       " 'optimization_method': 'Simple Gradient Descent',\n",
       " 'max_iterations': 10000,\n",
       " 'optimal_weights': [0.0898949791420179,\n",
       "  0.39044458239599616,\n",
       "  0.22707096760308904,\n",
       "  0.29258947085889697],\n",
       " 'optimal_portfolio_returns': shape: (1_825,)\n",
       " Series: '' [f64]\n",
       " [\n",
       " \t0.0\n",
       " \t0.760412\n",
       " \t-4.495129\n",
       " \t3.814436\n",
       " \t3.55949\n",
       " \t5.415534\n",
       " \t0.863119\n",
       " \t-0.070131\n",
       " \t1.18984\n",
       " \t-2.384083\n",
       " \t0.240243\n",
       " \t-0.033708\n",
       " \t…\n",
       " \t1.567527\n",
       " \t-0.344703\n",
       " \t-0.099511\n",
       " \t0.860948\n",
       " \t0.070545\n",
       " \t-0.187137\n",
       " \t-0.499251\n",
       " \t0.390761\n",
       " \t-0.541492\n",
       " \t0.641514\n",
       " \t-0.35435\n",
       " \t-0.332408\n",
       " \t0.070274\n",
       " ],\n",
       " 'Daily Return': 0.16553373977925942,\n",
       " 'Daily Volatility': 2.008679025851126,\n",
       " 'Cumulative Return': 1314.1502644986083,\n",
       " 'Annualized Return': 51.709928564652486,\n",
       " 'Annualized Volatility': 31.88679099692137,\n",
       " 'Alpha': -0.0030575296125311888,\n",
       " 'Beta': 0.5031103715258669,\n",
       " 'Sharpe Ratio': 1.4962285972664613,\n",
       " 'Sortino Ratio': 2.0651202465661043,\n",
       " 'Active Return': 23.972349102558034,\n",
       " 'Active Risk': 20.78276654634688,\n",
       " 'Information Ratio': 1.1534724719684544,\n",
       " 'Calmar Ratio': 2.0008244480724686,\n",
       " 'Maximum Drawdown': 25.84431063628206,\n",
       " 'Value at Risk': -2.8378872118124185,\n",
       " 'Expected Shortfall': -4.450535856860344}"
      ]
     },
     "execution_count": 5,
     "metadata": {},
     "output_type": "execute_result"
    }
   ],
   "source": [
    "portfolio.get_optimization_results()"
   ]
  },
  {
   "cell_type": "code",
   "execution_count": 6,
   "id": "f6829541-3e36-49ba-8314-caafe05edf57",
   "metadata": {},
   "outputs": [
    {
     "data": {
      "text/html": [
       "\n",
       "        <iframe\n",
       "            width=\"1000\"\n",
       "            height=\"800\"\n",
       "            src=\"optimization.html\"\n",
       "            frameborder=\"0\"\n",
       "            allowfullscreen\n",
       "            \n",
       "        ></iframe>\n",
       "        "
      ],
      "text/plain": [
       "<IPython.lib.display.IFrame at 0x10cbff9d0>"
      ]
     },
     "metadata": {},
     "output_type": "display_data"
    }
   ],
   "source": [
    "portfolio.display_portfolio_charts(chart_type=\"optimization\", display_format=\"notebook\")"
   ]
  },
  {
   "cell_type": "code",
   "execution_count": 7,
   "id": "5bbcc380-1db4-4b4a-8c92-c32ad0d7601f",
   "metadata": {},
   "outputs": [
    {
     "data": {
      "text/html": [
       "\n",
       "        <iframe\n",
       "            width=\"1000\"\n",
       "            height=\"800\"\n",
       "            src=\"performance.html\"\n",
       "            frameborder=\"0\"\n",
       "            allowfullscreen\n",
       "            \n",
       "        ></iframe>\n",
       "        "
      ],
      "text/plain": [
       "<IPython.lib.display.IFrame at 0x10cc8b7d0>"
      ]
     },
     "metadata": {},
     "output_type": "display_data"
    }
   ],
   "source": [
    "portfolio.display_portfolio_charts(chart_type=\"performance\", display_format=\"notebook\")"
   ]
  },
  {
   "cell_type": "code",
   "execution_count": 8,
   "id": "80042969-3240-4aa9-b0de-d1acb7346a8a",
   "metadata": {
    "tags": []
   },
   "outputs": [
    {
     "data": {
      "text/html": [
       "\n",
       "        <iframe\n",
       "            width=\"1000\"\n",
       "            height=\"800\"\n",
       "            src=\"asset_returns.html\"\n",
       "            frameborder=\"0\"\n",
       "            allowfullscreen\n",
       "            \n",
       "        ></iframe>\n",
       "        "
      ],
      "text/plain": [
       "<IPython.lib.display.IFrame at 0x10bb58ed0>"
      ]
     },
     "metadata": {},
     "output_type": "display_data"
    }
   ],
   "source": [
    "portfolio.display_portfolio_charts(chart_type=\"asset_returns\", display_format=\"notebook\")"
   ]
  }
 ],
 "metadata": {
  "kernelspec": {
   "display_name": "Python 3 (ipykernel)",
   "language": "python",
   "name": "python3"
  },
  "language_info": {
   "codemirror_mode": {
    "name": "ipython",
    "version": 3
   },
   "file_extension": ".py",
   "mimetype": "text/x-python",
   "name": "python",
   "nbconvert_exporter": "python",
   "pygments_lexer": "ipython3",
   "version": "3.11.4"
  }
 },
 "nbformat": 4,
 "nbformat_minor": 5
}
