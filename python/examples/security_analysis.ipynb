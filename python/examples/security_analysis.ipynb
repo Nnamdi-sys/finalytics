{
 "cells": [
  {
   "cell_type": "markdown",
   "id": "cbaa23c8-ab35-416e-8bc7-827b49b95228",
   "metadata": {},
   "source": [
    "<p align=\"center\">\n",
    "  <img src=\"https://github.com/Nnamdi-sys/finalytics/raw/main/logo-color.png\" alt=\"Finalytics Logo\">\n",
    "</p>"
   ]
  },
  {
   "cell_type": "code",
   "execution_count": 1,
   "id": "55cf0678-3cc5-49a3-b9ba-dbf60f5e1339",
   "metadata": {},
   "outputs": [],
   "source": [
    "%%capture\n",
    "!pip install finalytics"
   ]
  },
  {
   "cell_type": "code",
   "execution_count": 2,
   "id": "fe5fd49e-8b95-4cb4-bc91-a006fa2f85b2",
   "metadata": {},
   "outputs": [],
   "source": [
    "from finalytics import Ticker"
   ]
  },
  {
   "cell_type": "code",
   "execution_count": 3,
   "id": "fb623a10-bcbc-454e-a71c-e980685383ed",
   "metadata": {},
   "outputs": [],
   "source": [
    "ticker = Ticker(symbol=\"AAPL\")"
   ]
  },
  {
   "cell_type": "code",
   "execution_count": 4,
   "id": "4d83cff7-4e27-4250-9d32-b2ef2744e39d",
   "metadata": {},
   "outputs": [
    {
     "data": {
      "text/plain": [
       "185.92"
      ]
     },
     "execution_count": 4,
     "metadata": {},
     "output_type": "execute_result"
    }
   ],
   "source": [
    "ticker.get_current_price()"
   ]
  },
  {
   "cell_type": "code",
   "execution_count": 5,
   "id": "27a68e31-39e1-43bd-83c2-6c32a7b480e3",
   "metadata": {},
   "outputs": [
    {
     "data": {
      "text/plain": [
       "{'Symbol': 'AAPL',\n",
       " 'Name': 'Apple',\n",
       " 'Exchange': 'NasdaqGS',\n",
       " 'Currency': 'USD',\n",
       " 'Timestamp': 1705093201,\n",
       " 'Current Price': 185.92,\n",
       " '24H Change': 0.1778123,\n",
       " '24H Volume': 40477782.0,\n",
       " '24H Open': 186.06,\n",
       " '24H High': 186.74,\n",
       " '24H Low': 185.19,\n",
       " '24H Close': 185.59,\n",
       " '52 Week High': 199.62,\n",
       " '52 Week Low': 133.77,\n",
       " '52 Week Change': 36.76622,\n",
       " '50 Day Average': 189.0204,\n",
       " '200 Day Average': 180.69244,\n",
       " 'Trailing EPS': 6.14,\n",
       " 'Current EPS': 6.59,\n",
       " 'Forward EPS': 7.15,\n",
       " 'Trailing P/E': 30.28013,\n",
       " 'Current P/E': 28.212442,\n",
       " 'Forward P/E': 26.002796,\n",
       " 'Dividend Rate': 0.96,\n",
       " 'Dividend Yield': 0.52,\n",
       " 'Book Value': 3.997,\n",
       " 'Price to Book': 46.514885,\n",
       " 'Market Cap': 2874676346880.0,\n",
       " 'Shares Outstanding': 15461900288.0,\n",
       " 'Average Analyst Rating': '2.2 - Buy'}"
      ]
     },
     "execution_count": 5,
     "metadata": {},
     "output_type": "execute_result"
    }
   ],
   "source": [
    "ticker.get_summary_stats()"
   ]
  },
  {
   "cell_type": "code",
   "execution_count": 6,
   "id": "e800377d-4aa0-445a-8941-591aa3f76a0d",
   "metadata": {},
   "outputs": [
    {
     "data": {
      "text/html": [
       "<div><style>\n",
       ".dataframe > thead > tr > th,\n",
       ".dataframe > tbody > tr > td {\n",
       "  text-align: right;\n",
       "  white-space: pre-wrap;\n",
       "}\n",
       "</style>\n",
       "<small>shape: (208, 7)</small><table border=\"1\" class=\"dataframe\"><thead><tr><th>timestamp</th><th>open</th><th>high</th><th>low</th><th>close</th><th>volume</th><th>adjclose</th></tr><tr><td>datetime[ms]</td><td>f64</td><td>f64</td><td>f64</td><td>f64</td><td>f64</td><td>f64</td></tr></thead><tbody><tr><td>2023-01-03 00:00:00</td><td>130.279999</td><td>130.899994</td><td>124.169998</td><td>125.07</td><td>1.121175e8</td><td>124.374802</td></tr><tr><td>2023-01-04 00:00:00</td><td>126.889999</td><td>128.660004</td><td>125.080002</td><td>126.360001</td><td>8.91136e7</td><td>125.657639</td></tr><tr><td>2023-01-05 00:00:00</td><td>127.129997</td><td>127.769997</td><td>124.760002</td><td>125.019997</td><td>8.09627e7</td><td>124.325089</td></tr><tr><td>2023-01-06 00:00:00</td><td>126.010002</td><td>130.289993</td><td>124.889999</td><td>129.619995</td><td>8.77547e7</td><td>128.899521</td></tr><tr><td>2023-01-09 00:00:00</td><td>130.470001</td><td>133.410004</td><td>129.889999</td><td>130.149994</td><td>7.07908e7</td><td>129.426559</td></tr><tr><td>2023-01-10 00:00:00</td><td>130.259995</td><td>131.259995</td><td>128.119995</td><td>130.729996</td><td>6.38962e7</td><td>130.003342</td></tr><tr><td>2023-01-11 00:00:00</td><td>131.25</td><td>133.509995</td><td>130.460007</td><td>133.490005</td><td>6.94589e7</td><td>132.748016</td></tr><tr><td>2023-01-12 00:00:00</td><td>133.880005</td><td>134.259995</td><td>131.440002</td><td>133.410004</td><td>7.13796e7</td><td>132.668442</td></tr><tr><td>2023-01-13 00:00:00</td><td>132.029999</td><td>134.919998</td><td>131.660004</td><td>134.759995</td><td>5.78097e7</td><td>134.010925</td></tr><tr><td>2023-01-17 00:00:00</td><td>134.830002</td><td>137.289993</td><td>134.130005</td><td>135.940002</td><td>6.36466e7</td><td>135.184387</td></tr><tr><td>2023-01-18 00:00:00</td><td>136.820007</td><td>138.610001</td><td>135.029999</td><td>135.210007</td><td>6.96728e7</td><td>134.45845</td></tr><tr><td>2023-01-19 00:00:00</td><td>134.080002</td><td>136.25</td><td>133.770004</td><td>135.270004</td><td>5.82804e7</td><td>134.518112</td></tr><tr><td>&hellip;</td><td>&hellip;</td><td>&hellip;</td><td>&hellip;</td><td>&hellip;</td><td>&hellip;</td><td>&hellip;</td></tr><tr><td>2023-10-13 00:00:00</td><td>181.419998</td><td>181.929993</td><td>178.139999</td><td>178.850006</td><td>5.14271e7</td><td>178.614685</td></tr><tr><td>2023-10-16 00:00:00</td><td>176.75</td><td>179.080002</td><td>176.509995</td><td>178.720001</td><td>5.2517e7</td><td>178.484863</td></tr><tr><td>2023-10-17 00:00:00</td><td>176.649994</td><td>178.419998</td><td>174.800003</td><td>177.149994</td><td>5.75494e7</td><td>176.916916</td></tr><tr><td>2023-10-18 00:00:00</td><td>175.580002</td><td>177.580002</td><td>175.110001</td><td>175.839996</td><td>5.47644e7</td><td>175.608643</td></tr><tr><td>2023-10-19 00:00:00</td><td>176.039993</td><td>177.839996</td><td>175.190002</td><td>175.460007</td><td>5.93029e7</td><td>175.229156</td></tr><tr><td>2023-10-20 00:00:00</td><td>175.309998</td><td>175.419998</td><td>172.639999</td><td>172.880005</td><td>6.41893e7</td><td>172.652542</td></tr><tr><td>2023-10-23 00:00:00</td><td>170.910004</td><td>174.009995</td><td>169.929993</td><td>173.0</td><td>5.59801e7</td><td>172.772385</td></tr><tr><td>2023-10-24 00:00:00</td><td>173.050003</td><td>173.669998</td><td>171.449997</td><td>173.440002</td><td>4.38166e7</td><td>173.211807</td></tr><tr><td>2023-10-25 00:00:00</td><td>171.880005</td><td>173.059998</td><td>170.649994</td><td>171.100006</td><td>5.7157e7</td><td>170.874893</td></tr><tr><td>2023-10-26 00:00:00</td><td>170.369995</td><td>171.380005</td><td>165.669998</td><td>166.889999</td><td>7.06253e7</td><td>166.670425</td></tr><tr><td>2023-10-27 00:00:00</td><td>166.910004</td><td>168.960007</td><td>166.830002</td><td>168.220001</td><td>5.84991e7</td><td>167.998672</td></tr><tr><td>2023-10-30 00:00:00</td><td>169.020004</td><td>171.169998</td><td>168.869995</td><td>170.289993</td><td>5.1131e7</td><td>170.065933</td></tr></tbody></table></div>"
      ],
      "text/plain": [
       "shape: (208, 7)\n",
       "┌──────────────┬────────────┬────────────┬────────────┬────────────┬────────────┬────────────┐\n",
       "│ timestamp    ┆ open       ┆ high       ┆ low        ┆ close      ┆ volume     ┆ adjclose   │\n",
       "│ ---          ┆ ---        ┆ ---        ┆ ---        ┆ ---        ┆ ---        ┆ ---        │\n",
       "│ datetime[ms] ┆ f64        ┆ f64        ┆ f64        ┆ f64        ┆ f64        ┆ f64        │\n",
       "╞══════════════╪════════════╪════════════╪════════════╪════════════╪════════════╪════════════╡\n",
       "│ 2023-01-03   ┆ 130.279999 ┆ 130.899994 ┆ 124.169998 ┆ 125.07     ┆ 1.121175e8 ┆ 124.374802 │\n",
       "│ 00:00:00     ┆            ┆            ┆            ┆            ┆            ┆            │\n",
       "│ 2023-01-04   ┆ 126.889999 ┆ 128.660004 ┆ 125.080002 ┆ 126.360001 ┆ 8.91136e7  ┆ 125.657639 │\n",
       "│ 00:00:00     ┆            ┆            ┆            ┆            ┆            ┆            │\n",
       "│ 2023-01-05   ┆ 127.129997 ┆ 127.769997 ┆ 124.760002 ┆ 125.019997 ┆ 8.09627e7  ┆ 124.325089 │\n",
       "│ 00:00:00     ┆            ┆            ┆            ┆            ┆            ┆            │\n",
       "│ 2023-01-06   ┆ 126.010002 ┆ 130.289993 ┆ 124.889999 ┆ 129.619995 ┆ 8.77547e7  ┆ 128.899521 │\n",
       "│ 00:00:00     ┆            ┆            ┆            ┆            ┆            ┆            │\n",
       "│ …            ┆ …          ┆ …          ┆ …          ┆ …          ┆ …          ┆ …          │\n",
       "│ 2023-10-25   ┆ 171.880005 ┆ 173.059998 ┆ 170.649994 ┆ 171.100006 ┆ 5.7157e7   ┆ 170.874893 │\n",
       "│ 00:00:00     ┆            ┆            ┆            ┆            ┆            ┆            │\n",
       "│ 2023-10-26   ┆ 170.369995 ┆ 171.380005 ┆ 165.669998 ┆ 166.889999 ┆ 7.06253e7  ┆ 166.670425 │\n",
       "│ 00:00:00     ┆            ┆            ┆            ┆            ┆            ┆            │\n",
       "│ 2023-10-27   ┆ 166.910004 ┆ 168.960007 ┆ 166.830002 ┆ 168.220001 ┆ 5.84991e7  ┆ 167.998672 │\n",
       "│ 00:00:00     ┆            ┆            ┆            ┆            ┆            ┆            │\n",
       "│ 2023-10-30   ┆ 169.020004 ┆ 171.169998 ┆ 168.869995 ┆ 170.289993 ┆ 5.1131e7   ┆ 170.065933 │\n",
       "│ 00:00:00     ┆            ┆            ┆            ┆            ┆            ┆            │\n",
       "└──────────────┴────────────┴────────────┴────────────┴────────────┴────────────┴────────────┘"
      ]
     },
     "execution_count": 6,
     "metadata": {},
     "output_type": "execute_result"
    }
   ],
   "source": [
    "ticker.get_price_history(start=\"2023-01-01\", end=\"2023-10-31\", interval=\"1d\")"
   ]
  },
  {
   "cell_type": "code",
   "execution_count": 7,
   "id": "93563ccb-2b3c-493c-a7ec-f307e678fc5b",
   "metadata": {},
   "outputs": [
    {
     "data": {
      "text/html": [
       "\n",
       "        <iframe\n",
       "            width=\"1000\"\n",
       "            height=\"800\"\n",
       "            src=\"candlestick_chart.html\"\n",
       "            frameborder=\"0\"\n",
       "            allowfullscreen\n",
       "            \n",
       "        ></iframe>\n",
       "        "
      ],
      "text/plain": [
       "<IPython.lib.display.IFrame at 0x10789b1d0>"
      ]
     },
     "metadata": {},
     "output_type": "display_data"
    }
   ],
   "source": [
    "ticker.display_candlestick_chart(start=\"2023-01-01\", end=\"2023-12-31\", interval=\"1d\", display_format=\"notebook\")"
   ]
  },
  {
   "cell_type": "code",
   "execution_count": 8,
   "id": "863469bd-52de-417e-bc06-86af1615515b",
   "metadata": {},
   "outputs": [
    {
     "data": {
      "text/html": [
       "<div><style>\n",
       ".dataframe > thead > tr > th,\n",
       ".dataframe > tbody > tr > td {\n",
       "  text-align: right;\n",
       "  white-space: pre-wrap;\n",
       "}\n",
       "</style>\n",
       "<small>shape: (1_644, 16)</small><table border=\"1\" class=\"dataframe\"><thead><tr><th>expiration</th><th>ttm</th><th>type</th><th>contractSymbol</th><th>strike</th><th>currency</th><th>lastPrice</th><th>change</th><th>percentChange</th><th>openInterest</th><th>bid</th><th>ask</th><th>contractSize</th><th>lastTradeDate</th><th>impliedVolatility</th><th>inTheMoney</th></tr><tr><td>str</td><td>f64</td><td>str</td><td>str</td><td>f64</td><td>str</td><td>f64</td><td>f64</td><td>f64</td><td>f64</td><td>f64</td><td>f64</td><td>str</td><td>datetime[ms]</td><td>f64</td><td>bool</td></tr></thead><tbody><tr><td>&quot;2024-01-19&quot;</td><td>0.131406</td><td>&quot;call&quot;</td><td>&quot;AAPL240119C000…</td><td>50.0</td><td>&quot;USD&quot;</td><td>135.5</td><td>-0.25</td><td>-0.184162</td><td>16784.0</td><td>134.75</td><td>136.9</td><td>&quot;REGULAR&quot;</td><td>2024-01-12 17:00:26</td><td>6.263674</td><td>true</td></tr><tr><td>&quot;2024-01-19&quot;</td><td>0.131406</td><td>&quot;call&quot;</td><td>&quot;AAPL240119C000…</td><td>55.0</td><td>&quot;USD&quot;</td><td>125.45</td><td>0.0</td><td>0.0</td><td>3352.0</td><td>130.15</td><td>132.05</td><td>&quot;REGULAR&quot;</td><td>2024-01-05 20:24:07</td><td>4.492192</td><td>true</td></tr><tr><td>&quot;2024-01-19&quot;</td><td>0.131406</td><td>&quot;call&quot;</td><td>&quot;AAPL240119C000…</td><td>60.0</td><td>&quot;USD&quot;</td><td>126.2</td><td>0.0</td><td>0.0</td><td>1782.0</td><td>124.65</td><td>126.5</td><td>&quot;REGULAR&quot;</td><td>2024-01-10 20:14:40</td><td>4.962894</td><td>true</td></tr><tr><td>&quot;2024-01-19&quot;</td><td>0.131406</td><td>&quot;call&quot;</td><td>&quot;AAPL240119C000…</td><td>65.0</td><td>&quot;USD&quot;</td><td>119.25</td><td>0.0</td><td>0.0</td><td>1859.0</td><td>120.1</td><td>122.0</td><td>&quot;REGULAR&quot;</td><td>2024-01-08 17:33:13</td><td>3.750001</td><td>true</td></tr><tr><td>&quot;2024-01-19&quot;</td><td>0.131406</td><td>&quot;call&quot;</td><td>&quot;AAPL240119C000…</td><td>70.0</td><td>&quot;USD&quot;</td><td>116.2</td><td>0.0</td><td>0.0</td><td>2070.0</td><td>115.0</td><td>117.05</td><td>&quot;REGULAR&quot;</td><td>2024-01-10 20:59:54</td><td>3.406251</td><td>true</td></tr><tr><td>&quot;2024-01-19&quot;</td><td>0.131406</td><td>&quot;call&quot;</td><td>&quot;AAPL240119C000…</td><td>75.0</td><td>&quot;USD&quot;</td><td>110.8</td><td>1.3500061</td><td>1.2334455</td><td>2328.0</td><td>110.4</td><td>111.95</td><td>&quot;REGULAR&quot;</td><td>2024-01-12 18:16:42</td><td>3.566407</td><td>true</td></tr><tr><td>&quot;2024-01-19&quot;</td><td>0.131406</td><td>&quot;call&quot;</td><td>&quot;AAPL240119C000…</td><td>80.0</td><td>&quot;USD&quot;</td><td>105.85</td><td>0.0</td><td>0.0</td><td>1341.0</td><td>105.0</td><td>107.05</td><td>&quot;REGULAR&quot;</td><td>2024-01-10 20:45:23</td><td>2.968753</td><td>true</td></tr><tr><td>&quot;2024-01-19&quot;</td><td>0.131406</td><td>&quot;call&quot;</td><td>&quot;AAPL240119C000…</td><td>85.0</td><td>&quot;USD&quot;</td><td>108.01</td><td>0.0</td><td>0.0</td><td>822.0</td><td>100.35</td><td>102.0</td><td>&quot;REGULAR&quot;</td><td>2023-12-29 20:59:32</td><td>3.113283</td><td>true</td></tr><tr><td>&quot;2024-01-19&quot;</td><td>0.131406</td><td>&quot;call&quot;</td><td>&quot;AAPL240119C000…</td><td>90.0</td><td>&quot;USD&quot;</td><td>96.05</td><td>0.510002</td><td>0.5338101</td><td>1972.0</td><td>95.2</td><td>97.05</td><td>&quot;REGULAR&quot;</td><td>2024-01-12 19:04:59</td><td>2.816409</td><td>true</td></tr><tr><td>&quot;2024-01-19&quot;</td><td>0.131406</td><td>&quot;call&quot;</td><td>&quot;AAPL240119C000…</td><td>95.0</td><td>&quot;USD&quot;</td><td>90.75</td><td>1.449997</td><td>1.6237367</td><td>2916.0</td><td>90.2</td><td>92.0</td><td>&quot;REGULAR&quot;</td><td>2024-01-12 15:34:49</td><td>2.578129</td><td>true</td></tr><tr><td>&quot;2024-01-19&quot;</td><td>0.131406</td><td>&quot;call&quot;</td><td>&quot;AAPL240119C001…</td><td>100.0</td><td>&quot;USD&quot;</td><td>85.81</td><td>0.279999</td><td>0.3273691</td><td>6169.0</td><td>85.1</td><td>86.5</td><td>&quot;REGULAR&quot;</td><td>2024-01-12 17:46:10</td><td>2.874026</td><td>true</td></tr><tr><td>&quot;2024-01-19&quot;</td><td>0.131406</td><td>&quot;call&quot;</td><td>&quot;AAPL240119C001…</td><td>105.0</td><td>&quot;USD&quot;</td><td>80.25</td><td>0.0</td><td>0.0</td><td>1580.0</td><td>80.05</td><td>81.95</td><td>&quot;REGULAR&quot;</td><td>2024-01-11 19:13:09</td><td>2.007817</td><td>true</td></tr><tr><td>&hellip;</td><td>&hellip;</td><td>&hellip;</td><td>&hellip;</td><td>&hellip;</td><td>&hellip;</td><td>&hellip;</td><td>&hellip;</td><td>&hellip;</td><td>&hellip;</td><td>&hellip;</td><td>&hellip;</td><td>&hellip;</td><td>&hellip;</td><td>&hellip;</td><td>&hellip;</td></tr><tr><td>&quot;2026-06-18&quot;</td><td>29.073587</td><td>&quot;put&quot;</td><td>&quot;AAPL260618P001…</td><td>150.0</td><td>&quot;USD&quot;</td><td>9.96</td><td>-0.17</td><td>-1.678184</td><td>66.0</td><td>9.8</td><td>10.7</td><td>&quot;REGULAR&quot;</td><td>2024-01-12 14:38:02</td><td>0.238045</td><td>false</td></tr><tr><td>&quot;2026-06-18&quot;</td><td>29.073587</td><td>&quot;put&quot;</td><td>&quot;AAPL260618P001…</td><td>160.0</td><td>&quot;USD&quot;</td><td>12.89</td><td>0.0</td><td>0.0</td><td>104.0</td><td>12.2</td><td>13.25</td><td>&quot;REGULAR&quot;</td><td>2024-01-11 18:21:40</td><td>0.225136</td><td>false</td></tr><tr><td>&quot;2026-06-18&quot;</td><td>29.073587</td><td>&quot;put&quot;</td><td>&quot;AAPL260618P001…</td><td>165.0</td><td>&quot;USD&quot;</td><td>14.23</td><td>0.169999</td><td>1.2090975</td><td>58.0</td><td>13.65</td><td>14.85</td><td>&quot;REGULAR&quot;</td><td>2024-01-12 19:58:07</td><td>0.220345</td><td>false</td></tr><tr><td>&quot;2026-06-18&quot;</td><td>29.073587</td><td>&quot;put&quot;</td><td>&quot;AAPL260618P001…</td><td>170.0</td><td>&quot;USD&quot;</td><td>15.74</td><td>-0.110001</td><td>-0.69401</td><td>5.0</td><td>15.15</td><td>16.4</td><td>&quot;REGULAR&quot;</td><td>2024-01-12 18:37:17</td><td>0.213829</td><td>false</td></tr><tr><td>&quot;2026-06-18&quot;</td><td>29.073587</td><td>&quot;put&quot;</td><td>&quot;AAPL260618P001…</td><td>175.0</td><td>&quot;USD&quot;</td><td>17.56</td><td>0.059999</td><td>0.342854</td><td>18.0</td><td>16.7</td><td>18.05</td><td>&quot;REGULAR&quot;</td><td>2024-01-12 18:39:09</td><td>0.2071</td><td>false</td></tr><tr><td>&quot;2026-06-18&quot;</td><td>29.073587</td><td>&quot;put&quot;</td><td>&quot;AAPL260618P001…</td><td>180.0</td><td>&quot;USD&quot;</td><td>19.08</td><td>-0.040001</td><td>-0.20921</td><td>23.0</td><td>18.45</td><td>20.0</td><td>&quot;REGULAR&quot;</td><td>2024-01-12 14:54:40</td><td>0.201882</td><td>false</td></tr><tr><td>&quot;2026-06-18&quot;</td><td>29.073587</td><td>&quot;put&quot;</td><td>&quot;AAPL260618P001…</td><td>185.0</td><td>&quot;USD&quot;</td><td>20.5</td><td>0.0</td><td>0.0</td><td>13.0</td><td>20.45</td><td>23.45</td><td>&quot;REGULAR&quot;</td><td>2024-01-10 20:55:18</td><td>0.208535</td><td>false</td></tr><tr><td>&quot;2026-06-18&quot;</td><td>29.073587</td><td>&quot;put&quot;</td><td>&quot;AAPL260618P002…</td><td>200.0</td><td>&quot;USD&quot;</td><td>28.11</td><td>-0.23</td><td>-0.811572</td><td>9.0</td><td>27.55</td><td>28.7</td><td>&quot;REGULAR&quot;</td><td>2024-01-10 18:21:47</td><td>0.17524</td><td>true</td></tr><tr><td>&quot;2026-06-18&quot;</td><td>29.073587</td><td>&quot;put&quot;</td><td>&quot;AAPL260618P002…</td><td>215.0</td><td>&quot;USD&quot;</td><td>37.05</td><td>0.0</td><td>0.0</td><td>6.0</td><td>35.7</td><td>37.1</td><td>&quot;REGULAR&quot;</td><td>2024-01-09 16:16:11</td><td>0.154717</td><td>true</td></tr><tr><td>&quot;2026-06-18&quot;</td><td>29.073587</td><td>&quot;put&quot;</td><td>&quot;AAPL260618P002…</td><td>220.0</td><td>&quot;USD&quot;</td><td>41.55</td><td>0.0</td><td>0.0</td><td>1.0</td><td>37.9</td><td>40.7</td><td>&quot;REGULAR&quot;</td><td>2024-01-04 20:00:15</td><td>0.151681</td><td>true</td></tr><tr><td>&quot;2026-06-18&quot;</td><td>29.073587</td><td>&quot;put&quot;</td><td>&quot;AAPL260618P002…</td><td>225.0</td><td>&quot;USD&quot;</td><td>44.77</td><td>0.0</td><td>0.0</td><td>26.0</td><td>42.0</td><td>45.4</td><td>&quot;REGULAR&quot;</td><td>2024-01-09 15:32:12</td><td>0.15873</td><td>true</td></tr><tr><td>&quot;2026-06-18&quot;</td><td>29.073587</td><td>&quot;put&quot;</td><td>&quot;AAPL260618P002…</td><td>230.0</td><td>&quot;USD&quot;</td><td>48.48</td><td>0.0</td><td>0.0</td><td>5.0</td><td>45.15</td><td>47.7</td><td>&quot;REGULAR&quot;</td><td>2024-01-09 15:33:39</td><td>0.136758</td><td>true</td></tr></tbody></table></div>"
      ],
      "text/plain": [
       "shape: (1_644, 16)\n",
       "┌────────────┬───────────┬──────┬────────────┬───┬────────────┬────────────┬───────────┬───────────┐\n",
       "│ expiration ┆ ttm       ┆ type ┆ contractSy ┆ … ┆ contractSi ┆ lastTradeD ┆ impliedVo ┆ inTheMone │\n",
       "│ ---        ┆ ---       ┆ ---  ┆ mbol       ┆   ┆ ze         ┆ ate        ┆ latility  ┆ y         │\n",
       "│ str        ┆ f64       ┆ str  ┆ ---        ┆   ┆ ---        ┆ ---        ┆ ---       ┆ ---       │\n",
       "│            ┆           ┆      ┆ str        ┆   ┆ str        ┆ datetime[m ┆ f64       ┆ bool      │\n",
       "│            ┆           ┆      ┆            ┆   ┆            ┆ s]         ┆           ┆           │\n",
       "╞════════════╪═══════════╪══════╪════════════╪═══╪════════════╪════════════╪═══════════╪═══════════╡\n",
       "│ 2024-01-19 ┆ 0.131406  ┆ call ┆ AAPL240119 ┆ … ┆ REGULAR    ┆ 2024-01-12 ┆ 6.263674  ┆ true      │\n",
       "│            ┆           ┆      ┆ C00050000  ┆   ┆            ┆ 17:00:26   ┆           ┆           │\n",
       "│ 2024-01-19 ┆ 0.131406  ┆ call ┆ AAPL240119 ┆ … ┆ REGULAR    ┆ 2024-01-05 ┆ 4.492192  ┆ true      │\n",
       "│            ┆           ┆      ┆ C00055000  ┆   ┆            ┆ 20:24:07   ┆           ┆           │\n",
       "│ 2024-01-19 ┆ 0.131406  ┆ call ┆ AAPL240119 ┆ … ┆ REGULAR    ┆ 2024-01-10 ┆ 4.962894  ┆ true      │\n",
       "│            ┆           ┆      ┆ C00060000  ┆   ┆            ┆ 20:14:40   ┆           ┆           │\n",
       "│ 2024-01-19 ┆ 0.131406  ┆ call ┆ AAPL240119 ┆ … ┆ REGULAR    ┆ 2024-01-08 ┆ 3.750001  ┆ true      │\n",
       "│            ┆           ┆      ┆ C00065000  ┆   ┆            ┆ 17:33:13   ┆           ┆           │\n",
       "│ …          ┆ …         ┆ …    ┆ …          ┆ … ┆ …          ┆ …          ┆ …         ┆ …         │\n",
       "│ 2026-06-18 ┆ 29.073587 ┆ put  ┆ AAPL260618 ┆ … ┆ REGULAR    ┆ 2024-01-09 ┆ 0.154717  ┆ true      │\n",
       "│            ┆           ┆      ┆ P00215000  ┆   ┆            ┆ 16:16:11   ┆           ┆           │\n",
       "│ 2026-06-18 ┆ 29.073587 ┆ put  ┆ AAPL260618 ┆ … ┆ REGULAR    ┆ 2024-01-04 ┆ 0.151681  ┆ true      │\n",
       "│            ┆           ┆      ┆ P00220000  ┆   ┆            ┆ 20:00:15   ┆           ┆           │\n",
       "│ 2026-06-18 ┆ 29.073587 ┆ put  ┆ AAPL260618 ┆ … ┆ REGULAR    ┆ 2024-01-09 ┆ 0.15873   ┆ true      │\n",
       "│            ┆           ┆      ┆ P00225000  ┆   ┆            ┆ 15:32:12   ┆           ┆           │\n",
       "│ 2026-06-18 ┆ 29.073587 ┆ put  ┆ AAPL260618 ┆ … ┆ REGULAR    ┆ 2024-01-09 ┆ 0.136758  ┆ true      │\n",
       "│            ┆           ┆      ┆ P00230000  ┆   ┆            ┆ 15:33:39   ┆           ┆           │\n",
       "└────────────┴───────────┴──────┴────────────┴───┴────────────┴────────────┴───────────┴───────────┘"
      ]
     },
     "execution_count": 8,
     "metadata": {},
     "output_type": "execute_result"
    }
   ],
   "source": [
    "ticker.get_options_chain() "
   ]
  },
  {
   "cell_type": "code",
   "execution_count": 9,
   "id": "6d0e66ce-18a5-4e9a-ba5d-b1504b98c3a9",
   "metadata": {},
   "outputs": [
    {
     "data": {
      "text/html": [
       "\n",
       "        <iframe\n",
       "            width=\"1000\"\n",
       "            height=\"800\"\n",
       "            src=\"surface.html\"\n",
       "            frameborder=\"0\"\n",
       "            allowfullscreen\n",
       "            \n",
       "        ></iframe>\n",
       "        "
      ],
      "text/plain": [
       "<IPython.lib.display.IFrame at 0x10c39fbd0>"
      ]
     },
     "metadata": {},
     "output_type": "display_data"
    }
   ],
   "source": [
    "ticker.display_options_chart(risk_free_rate=0.02, chart_type=\"surface\", display_format=\"notebook\")"
   ]
  },
  {
   "cell_type": "code",
   "execution_count": 10,
   "id": "7fede20d-942c-4ad6-bce6-e3fbad1c6bfa",
   "metadata": {},
   "outputs": [
    {
     "data": {
      "text/html": [
       "<div><style>\n",
       ".dataframe > thead > tr > th,\n",
       ".dataframe > tbody > tr > td {\n",
       "  text-align: right;\n",
       "  white-space: pre-wrap;\n",
       "}\n",
       "</style>\n",
       "<small>shape: (13, 5)</small><table border=\"1\" class=\"dataframe\"><thead><tr><th>Items</th><th>2022-12-31</th><th>2023-03-31</th><th>2023-06-30</th><th>2023-09-30</th></tr><tr><td>str</td><td>f64</td><td>f64</td><td>f64</td><td>f64</td></tr></thead><tbody><tr><td>&quot;Revenue&quot;</td><td>1.1715e11</td><td>9.4836e10</td><td>8.1797e10</td><td>8.9498e10</td></tr><tr><td>&quot;Cost of Goods …</td><td>6.6822e10</td><td>5.2860e10</td><td>4.5384e10</td><td>4.9071e10</td></tr><tr><td>&quot;Gross Profit&quot;</td><td>5.0332e10</td><td>4.1976e10</td><td>3.6413e10</td><td>4.0427e10</td></tr><tr><td>&quot;Operating Expe…</td><td>1.4316e10</td><td>1.3658e10</td><td>1.3415e10</td><td>1.3458e10</td></tr><tr><td>&quot;EBITDA&quot;</td><td>3.9542e10</td><td>3.2210e10</td><td>2.6783e10</td><td>3.0653e10</td></tr><tr><td>&quot;Depreciation a…</td><td>2.9160e9</td><td>2.8980e9</td><td>3.0520e9</td><td>2.6530e9</td></tr><tr><td>&quot;Operating Prof…</td><td>3.6626e10</td><td>2.9312e10</td><td>2.3731e10</td><td>2.8000e10</td></tr><tr><td>&quot;Interest Incom…</td><td>8.68e8</td><td>9.18e8</td><td>9.8e8</td><td>9.84e8</td></tr><tr><td>&quot;Interest Expen…</td><td>1.0030e9</td><td>9.3e8</td><td>9.98e8</td><td>1.0020e9</td></tr><tr><td>&quot;Income Tax Exp…</td><td>5.6250e9</td><td>4.2220e9</td><td>2.8520e9</td><td>4.0420e9</td></tr><tr><td>&quot;Net Income&quot;</td><td>2.9998e10</td><td>2.4160e10</td><td>1.9881e10</td><td>2.2956e10</td></tr><tr><td>&quot;Earnings per S…</td><td>1.89</td><td>1.53</td><td>1.27</td><td>1.47</td></tr><tr><td>&quot;Earnings per S…</td><td>1.88</td><td>1.52</td><td>1.26</td><td>1.46</td></tr></tbody></table></div>"
      ],
      "text/plain": [
       "shape: (13, 5)\n",
       "┌──────────────────────────────┬────────────┬────────────┬────────────┬────────────┐\n",
       "│ Items                        ┆ 2022-12-31 ┆ 2023-03-31 ┆ 2023-06-30 ┆ 2023-09-30 │\n",
       "│ ---                          ┆ ---        ┆ ---        ┆ ---        ┆ ---        │\n",
       "│ str                          ┆ f64        ┆ f64        ┆ f64        ┆ f64        │\n",
       "╞══════════════════════════════╪════════════╪════════════╪════════════╪════════════╡\n",
       "│ Revenue                      ┆ 1.1715e11  ┆ 9.4836e10  ┆ 8.1797e10  ┆ 8.9498e10  │\n",
       "│ Cost of Goods Sold           ┆ 6.6822e10  ┆ 5.2860e10  ┆ 4.5384e10  ┆ 4.9071e10  │\n",
       "│ Gross Profit                 ┆ 5.0332e10  ┆ 4.1976e10  ┆ 3.6413e10  ┆ 4.0427e10  │\n",
       "│ Operating Expenses           ┆ 1.4316e10  ┆ 1.3658e10  ┆ 1.3415e10  ┆ 1.3458e10  │\n",
       "│ …                            ┆ …          ┆ …          ┆ …          ┆ …          │\n",
       "│ Income Tax Expense           ┆ 5.6250e9   ┆ 4.2220e9   ┆ 2.8520e9   ┆ 4.0420e9   │\n",
       "│ Net Income                   ┆ 2.9998e10  ┆ 2.4160e10  ┆ 1.9881e10  ┆ 2.2956e10  │\n",
       "│ Earnings per Share - Basic   ┆ 1.89       ┆ 1.53       ┆ 1.27       ┆ 1.47       │\n",
       "│ Earnings per Share - Diluted ┆ 1.88       ┆ 1.52       ┆ 1.26       ┆ 1.46       │\n",
       "└──────────────────────────────┴────────────┴────────────┴────────────┴────────────┘"
      ]
     },
     "execution_count": 10,
     "metadata": {},
     "output_type": "execute_result"
    }
   ],
   "source": [
    "ticker.get_income_statement()"
   ]
  },
  {
   "cell_type": "code",
   "execution_count": 11,
   "id": "748f5280-64db-4cd4-901d-af5f367a32ab",
   "metadata": {},
   "outputs": [
    {
     "data": {
      "text/html": [
       "<div><style>\n",
       ".dataframe > thead > tr > th,\n",
       ".dataframe > tbody > tr > td {\n",
       "  text-align: right;\n",
       "  white-space: pre-wrap;\n",
       "}\n",
       "</style>\n",
       "<small>shape: (21, 5)</small><table border=\"1\" class=\"dataframe\"><thead><tr><th>Items</th><th>2022-12-31</th><th>2023-03-31</th><th>2023-06-30</th><th>2023-09-30</th></tr><tr><td>str</td><td>f64</td><td>f64</td><td>f64</td><td>f64</td></tr></thead><tbody><tr><td>&quot;Cash and Cash …</td><td>2.0535e10</td><td>2.4687e10</td><td>2.8408e10</td><td>2.9965e10</td></tr><tr><td>&quot;Accounts Recei…</td><td>2.3752e10</td><td>1.7936e10</td><td>1.9549e10</td><td>2.9508e10</td></tr><tr><td>&quot;Inventories&quot;</td><td>6.8200e9</td><td>7.4820e9</td><td>7.3510e9</td><td>6.3310e9</td></tr><tr><td>&quot;Other Current …</td><td>1.6422e10</td><td>1.3660e10</td><td>1.3640e10</td><td>1.4695e10</td></tr><tr><td>&quot;Total Current …</td><td>1.2878e11</td><td>1.1291e11</td><td>1.2266e11</td><td>1.4357e11</td></tr><tr><td>&quot;Property, Plan…</td><td>4.2951e10</td><td>4.3398e10</td><td>4.3550e10</td><td>4.3715e10</td></tr><tr><td>&quot;Other Non-Curr…</td><td>6.0924e10</td><td>6.5388e10</td><td>6.4768e10</td><td>4.6906e10</td></tr><tr><td>&quot;Total Non-Curr…</td><td>2.1797e11</td><td>2.1925e11</td><td>2.1238e11</td><td>2.0902e11</td></tr><tr><td>&quot;Total Assets&quot;</td><td>3.4675e11</td><td>3.3216e11</td><td>3.3504e11</td><td>3.5258e11</td></tr><tr><td>&quot;Accounts Payab…</td><td>5.7918e10</td><td>4.2945e10</td><td>4.6699e10</td><td>6.2611e10</td></tr><tr><td>&quot;Short-Term Deb…</td><td>1.1483e10</td><td>1.2574e10</td><td>1.1209e10</td><td>1.5807e10</td></tr><tr><td>&quot;Other Current …</td><td>5.9893e10</td><td>5.6425e10</td><td>5.8897e10</td><td>5.8829e10</td></tr><tr><td>&quot;Total Current …</td><td>1.3729e11</td><td>1.2008e11</td><td>1.2496e11</td><td>1.4531e11</td></tr><tr><td>&quot;Long-Term Debt…</td><td>9.9627e10</td><td>9.7041e10</td><td>9.8071e10</td><td>9.5281e10</td></tr><tr><td>&quot;Other Non-Curr…</td><td>5.3107e10</td><td>5.2886e10</td><td>5.1730e10</td><td>3.4391e10</td></tr><tr><td>&quot;Total Non-Curr…</td><td>1.5273e11</td><td>1.4993e11</td><td>1.4980e11</td><td>1.4513e11</td></tr><tr><td>&quot;Total Liabilit…</td><td>2.9002e11</td><td>2.7000e11</td><td>2.7476e11</td><td>2.9044e11</td></tr><tr><td>&quot;Common Stock&quot;</td><td>6.6399e10</td><td>6.9568e10</td><td>7.0667e10</td><td>7.3812e10</td></tr><tr><td>&quot;Retained Earni…</td><td>3.2400e9</td><td>4.3360e9</td><td>1.4080e9</td><td>-2.1400e8</td></tr><tr><td>&quot;Total Equity&quot;</td><td>5.6727e10</td><td>6.2158e10</td><td>6.0274e10</td><td>6.2146e10</td></tr><tr><td>&quot;Total Liabilit…</td><td>5.6727e10</td><td>6.2158e10</td><td>6.0274e10</td><td>6.2146e10</td></tr></tbody></table></div>"
      ],
      "text/plain": [
       "shape: (21, 5)\n",
       "┌──────────────────────────────┬────────────┬────────────┬────────────┬────────────┐\n",
       "│ Items                        ┆ 2022-12-31 ┆ 2023-03-31 ┆ 2023-06-30 ┆ 2023-09-30 │\n",
       "│ ---                          ┆ ---        ┆ ---        ┆ ---        ┆ ---        │\n",
       "│ str                          ┆ f64        ┆ f64        ┆ f64        ┆ f64        │\n",
       "╞══════════════════════════════╪════════════╪════════════╪════════════╪════════════╡\n",
       "│ Cash and Cash Equivalents    ┆ 2.0535e10  ┆ 2.4687e10  ┆ 2.8408e10  ┆ 2.9965e10  │\n",
       "│ Accounts Receivable          ┆ 2.3752e10  ┆ 1.7936e10  ┆ 1.9549e10  ┆ 2.9508e10  │\n",
       "│ Inventories                  ┆ 6.8200e9   ┆ 7.4820e9   ┆ 7.3510e9   ┆ 6.3310e9   │\n",
       "│ Other Current Assets         ┆ 1.6422e10  ┆ 1.3660e10  ┆ 1.3640e10  ┆ 1.4695e10  │\n",
       "│ …                            ┆ …          ┆ …          ┆ …          ┆ …          │\n",
       "│ Common Stock                 ┆ 6.6399e10  ┆ 6.9568e10  ┆ 7.0667e10  ┆ 7.3812e10  │\n",
       "│ Retained Earnings            ┆ 3.2400e9   ┆ 4.3360e9   ┆ 1.4080e9   ┆ -2.1400e8  │\n",
       "│ Total Equity                 ┆ 5.6727e10  ┆ 6.2158e10  ┆ 6.0274e10  ┆ 6.2146e10  │\n",
       "│ Total Liabilities and Equity ┆ 5.6727e10  ┆ 6.2158e10  ┆ 6.0274e10  ┆ 6.2146e10  │\n",
       "└──────────────────────────────┴────────────┴────────────┴────────────┴────────────┘"
      ]
     },
     "execution_count": 11,
     "metadata": {},
     "output_type": "execute_result"
    }
   ],
   "source": [
    "ticker.get_balance_sheet()"
   ]
  },
  {
   "cell_type": "code",
   "execution_count": 12,
   "id": "18337a00-a293-44b4-8274-0cb971ad82c1",
   "metadata": {},
   "outputs": [
    {
     "data": {
      "text/html": [
       "<div><style>\n",
       ".dataframe > thead > tr > th,\n",
       ".dataframe > tbody > tr > td {\n",
       "  text-align: right;\n",
       "  white-space: pre-wrap;\n",
       "}\n",
       "</style>\n",
       "<small>shape: (26, 5)</small><table border=\"1\" class=\"dataframe\"><thead><tr><th>Items</th><th>2022-12-31</th><th>2023-03-31</th><th>2023-06-30</th><th>2023-09-30</th></tr><tr><td>str</td><td>f64</td><td>f64</td><td>f64</td><td>f64</td></tr></thead><tbody><tr><td>&quot;Net Income fro…</td><td>2.9998e10</td><td>2.4160e10</td><td>1.9881e10</td><td>2.2956e10</td></tr><tr><td>&quot;Depreciation, …</td><td>2.9160e9</td><td>2.8980e9</td><td>3.0520e9</td><td>2.6530e9</td></tr><tr><td>&quot;Stock-Based Co…</td><td>2.9050e9</td><td>2.6860e9</td><td>2.6170e9</td><td>2.6250e9</td></tr><tr><td>&quot;Changes in Wor…</td><td>-1.4970e9</td><td>2.31e8</td><td>7.49e8</td><td>-6.0600e9</td></tr><tr><td>&quot;Cash Flow from…</td><td>3.4005e10</td><td>2.8560e10</td><td>2.6380e10</td><td>2.1598e10</td></tr><tr><td>&quot;Purchase of Pr…</td><td>-3.7870e9</td><td>-2.9160e9</td><td>-2.0930e9</td><td>-2.1630e9</td></tr><tr><td>&quot;Net Investment…</td><td>2.4830e9</td><td>5.3410e9</td><td>3.0360e9</td><td>5.1410e9</td></tr><tr><td>&quot;Sale of Invest…</td><td>7.6360e9</td><td>1.1385e10</td><td>1.2795e10</td><td>1.3698e10</td></tr><tr><td>&quot;Purchase of In…</td><td>-5.1530e9</td><td>-6.0440e9</td><td>-9.7590e9</td><td>-8.5570e9</td></tr><tr><td>&quot;Net Other Inve…</td><td>-1.4100e8</td><td>-1.0600e8</td><td>-5.0600e8</td><td>-5.8400e8</td></tr><tr><td>&quot;Cash Flow from…</td><td>-1.4450e9</td><td>2.3190e9</td><td>4.37e8</td><td>2.3940e9</td></tr><tr><td>&quot;Net Common Sto…</td><td>-1.9475e10</td><td>-1.9594e10</td><td>-1.7478e10</td><td>-2.1003e10</td></tr><tr><td>&hellip;</td><td>&hellip;</td><td>&hellip;</td><td>&hellip;</td><td>&hellip;</td></tr><tr><td>&quot;Repurchase of …</td><td>-1.9475e10</td><td>-1.9594e10</td><td>-1.7478e10</td><td>-2.1003e10</td></tr><tr><td>&quot;Long-Term Debt…</td><td>-1.4010e9</td><td>-2.2500e9</td><td>-7.5000e9</td><td>0.0</td></tr><tr><td>&quot;Net Long-Term …</td><td>-1.4010e9</td><td>-2.2500e9</td><td>-2.2720e9</td><td>0.0</td></tr><tr><td>&quot;Net Issuance/P…</td><td>-9.6150e9</td><td>-1.9960e9</td><td>-2.8300e8</td><td>1.9930e9</td></tr><tr><td>&quot;Net Other Fina…</td><td>-2.7050e9</td><td>-4.8400e8</td><td>-2.4380e9</td><td>-3.8500e8</td></tr><tr><td>&quot;Cash Flow from…</td><td>-3.5563e10</td><td>-2.5724e10</td><td>-2.4048e10</td><td>-2.3153e10</td></tr><tr><td>&quot;Beginning Cash…</td><td>2.4977e10</td><td>2.1974e10</td><td>2.7129e10</td><td>2.9898e10</td></tr><tr><td>&quot;Operating Cash…</td><td>3.4005e10</td><td>2.8560e10</td><td>2.6380e10</td><td>2.1598e10</td></tr><tr><td>&quot;Investing Cash…</td><td>-1.4450e9</td><td>2.3190e9</td><td>4.37e8</td><td>2.3940e9</td></tr><tr><td>&quot;Financing Cash…</td><td>-3.5563e10</td><td>-2.5724e10</td><td>-2.4048e10</td><td>-2.3153e10</td></tr><tr><td>&quot;Ending Cash Po…</td><td>2.1974e10</td><td>2.7129e10</td><td>2.9898e10</td><td>3.0737e10</td></tr><tr><td>&quot;Free Cash Flow…</td><td>3.0218e10</td><td>2.5644e10</td><td>2.4287e10</td><td>1.9435e10</td></tr></tbody></table></div>"
      ],
      "text/plain": [
       "shape: (26, 5)\n",
       "┌───────────────────────────────────┬────────────┬────────────┬────────────┬────────────┐\n",
       "│ Items                             ┆ 2022-12-31 ┆ 2023-03-31 ┆ 2023-06-30 ┆ 2023-09-30 │\n",
       "│ ---                               ┆ ---        ┆ ---        ┆ ---        ┆ ---        │\n",
       "│ str                               ┆ f64        ┆ f64        ┆ f64        ┆ f64        │\n",
       "╞═══════════════════════════════════╪════════════╪════════════╪════════════╪════════════╡\n",
       "│ Net Income from Continuing Opera… ┆ 2.9998e10  ┆ 2.4160e10  ┆ 1.9881e10  ┆ 2.2956e10  │\n",
       "│ Depreciation, Amortization, and … ┆ 2.9160e9   ┆ 2.8980e9   ┆ 3.0520e9   ┆ 2.6530e9   │\n",
       "│ Stock-Based Compensation          ┆ 2.9050e9   ┆ 2.6860e9   ┆ 2.6170e9   ┆ 2.6250e9   │\n",
       "│ Changes in Working Capital        ┆ -1.4970e9  ┆ 2.31e8     ┆ 7.49e8     ┆ -6.0600e9  │\n",
       "│ …                                 ┆ …          ┆ …          ┆ …          ┆ …          │\n",
       "│ Investing Cash Flow               ┆ -1.4450e9  ┆ 2.3190e9   ┆ 4.37e8     ┆ 2.3940e9   │\n",
       "│ Financing Cash Flow               ┆ -3.5563e10 ┆ -2.5724e10 ┆ -2.4048e10 ┆ -2.3153e10 │\n",
       "│ Ending Cash Position              ┆ 2.1974e10  ┆ 2.7129e10  ┆ 2.9898e10  ┆ 3.0737e10  │\n",
       "│ Free Cash Flow                    ┆ 3.0218e10  ┆ 2.5644e10  ┆ 2.4287e10  ┆ 1.9435e10  │\n",
       "└───────────────────────────────────┴────────────┴────────────┴────────────┴────────────┘"
      ]
     },
     "execution_count": 12,
     "metadata": {},
     "output_type": "execute_result"
    }
   ],
   "source": [
    "ticker.get_cashflow_statement()"
   ]
  },
  {
   "cell_type": "code",
   "execution_count": 13,
   "id": "411c3b97-9c2b-4e8e-8052-4b1b59385a4e",
   "metadata": {},
   "outputs": [
    {
     "data": {
      "text/html": [
       "<div><style>\n",
       ".dataframe > thead > tr > th,\n",
       ".dataframe > tbody > tr > td {\n",
       "  text-align: right;\n",
       "  white-space: pre-wrap;\n",
       "}\n",
       "</style>\n",
       "<small>shape: (21, 5)</small><table border=\"1\" class=\"dataframe\"><thead><tr><th>Items</th><th>2022-12-31</th><th>2023-03-31</th><th>2023-06-30</th><th>2023-09-30</th></tr><tr><td>str</td><td>f64</td><td>f64</td><td>f64</td><td>f64</td></tr></thead><tbody><tr><td>&quot;gross_profit_m…</td><td>0.429623</td><td>0.442617</td><td>0.445163</td><td>0.451708</td></tr><tr><td>&quot;operating_prof…</td><td>0.312631</td><td>0.309081</td><td>0.290121</td><td>0.312856</td></tr><tr><td>&quot;net_profit_mar…</td><td>0.256056</td><td>0.254756</td><td>0.243053</td><td>0.256497</td></tr><tr><td>&quot;return_on_asse…</td><td>0.086513</td><td>0.072736</td><td>0.05934</td><td>0.065108</td></tr><tr><td>&quot;return_on_equi…</td><td>0.528813</td><td>0.388687</td><td>0.329844</td><td>0.369388</td></tr><tr><td>&quot;quick_ratio&quot;</td><td>0.93802</td><td>0.940354</td><td>0.981563</td><td>0.988012</td></tr><tr><td>&quot;current_ratio&quot;</td><td>0.93802</td><td>0.940354</td><td>0.981563</td><td>0.988012</td></tr><tr><td>&quot;debt_to_equity…</td><td>5.112557</td><td>4.343801</td><td>4.558582</td><td>4.673462</td></tr><tr><td>&quot;debt_to_assets…</td><td>0.836402</td><td>0.812867</td><td>0.820098</td><td>0.823741</td></tr><tr><td>&quot;interest_cover…</td><td>36.516451</td><td>31.51828</td><td>23.778557</td><td>27.944112</td></tr><tr><td>&quot;asset_turnover…</td><td>0.337866</td><td>0.285513</td><td>0.244142</td><td>0.253835</td></tr><tr><td>&quot;inventory_turn…</td><td>9.797947</td><td>7.064956</td><td>6.173854</td><td>7.750908</td></tr><tr><td>&quot;days_receivabl…</td><td>74.000717</td><td>69.03117</td><td>87.232845</td><td>120.342577</td></tr><tr><td>&quot;days_inventory…</td><td>37.252701</td><td>51.663451</td><td>59.120285</td><td>47.091256</td></tr><tr><td>&quot;days_payable&quot;</td><td>316.363922</td><td>296.536606</td><td>375.575864</td><td>465.713252</td></tr><tr><td>&quot;earnings_per_s…</td><td>1.88</td><td>1.52</td><td>1.26</td><td>1.46</td></tr><tr><td>&quot;price_to_earni…</td><td>5.212147</td><td>6.589363</td><td>7.96464</td><td>6.857771</td></tr><tr><td>&quot;price_to_book&quot;</td><td>2.756254</td><td>2.561199</td><td>2.627086</td><td>2.53318</td></tr><tr><td>&quot;price_to_sales…</td><td>1.334602</td><td>1.678677</td><td>1.935829</td><td>1.759</td></tr><tr><td>&quot;price_to_cash_…</td><td>4.597971</td><td>5.574195</td><td>6.002464</td><td>7.288962</td></tr><tr><td>&quot;price_to_free_…</td><td>5.174201</td><td>6.208041</td><td>6.519743</td><td>8.10018</td></tr></tbody></table></div>"
      ],
      "text/plain": [
       "shape: (21, 5)\n",
       "┌─────────────────────────┬────────────┬────────────┬────────────┬────────────┐\n",
       "│ Items                   ┆ 2022-12-31 ┆ 2023-03-31 ┆ 2023-06-30 ┆ 2023-09-30 │\n",
       "│ ---                     ┆ ---        ┆ ---        ┆ ---        ┆ ---        │\n",
       "│ str                     ┆ f64        ┆ f64        ┆ f64        ┆ f64        │\n",
       "╞═════════════════════════╪════════════╪════════════╪════════════╪════════════╡\n",
       "│ gross_profit_margin     ┆ 0.429623   ┆ 0.442617   ┆ 0.445163   ┆ 0.451708   │\n",
       "│ operating_profit_margin ┆ 0.312631   ┆ 0.309081   ┆ 0.290121   ┆ 0.312856   │\n",
       "│ net_profit_margin       ┆ 0.256056   ┆ 0.254756   ┆ 0.243053   ┆ 0.256497   │\n",
       "│ return_on_assets        ┆ 0.086513   ┆ 0.072736   ┆ 0.05934    ┆ 0.065108   │\n",
       "│ …                       ┆ …          ┆ …          ┆ …          ┆ …          │\n",
       "│ price_to_book           ┆ 2.756254   ┆ 2.561199   ┆ 2.627086   ┆ 2.53318    │\n",
       "│ price_to_sales          ┆ 1.334602   ┆ 1.678677   ┆ 1.935829   ┆ 1.759      │\n",
       "│ price_to_cash_flow      ┆ 4.597971   ┆ 5.574195   ┆ 6.002464   ┆ 7.288962   │\n",
       "│ price_to_free_cash_flow ┆ 5.174201   ┆ 6.208041   ┆ 6.519743   ┆ 8.10018    │\n",
       "└─────────────────────────┴────────────┴────────────┴────────────┴────────────┘"
      ]
     },
     "execution_count": 13,
     "metadata": {},
     "output_type": "execute_result"
    }
   ],
   "source": [
    "ticker.get_financial_ratios()"
   ]
  },
  {
   "cell_type": "code",
   "execution_count": 14,
   "id": "cf61ca20-5398-4bf6-b8e8-70361fb178a1",
   "metadata": {},
   "outputs": [
    {
     "data": {
      "text/plain": [
       "{'Symbol': 'AAPL',\n",
       " 'Benchmark': '^GSPC',\n",
       " 'Start Date': '2020-01-01',\n",
       " 'End Date': '2020-12-31',\n",
       " 'Interval': '1d',\n",
       " 'Confidence Level': 0.95,\n",
       " 'Risk Free Rate': 0.02,\n",
       " 'Daily Return': 0.27240403042198463,\n",
       " 'Daily Volatility': 2.9358068204400176,\n",
       " 'Total Return': 78.08556484545768,\n",
       " 'Annualized Return': 98.48133535688994,\n",
       " 'Annualized Volatility': 46.60448846526926,\n",
       " 'Alpha': -0.08919672319102599,\n",
       " 'Beta': 0.612559214001869,\n",
       " 'Sharpe Ratio': 2.0702155207387385,\n",
       " 'Sortino Ratio': 2.816711033630732,\n",
       " 'Active Return': 63.27413719079764,\n",
       " 'Active Risk': 26.375300310372776,\n",
       " 'Information Ratio': 2.398992104211736,\n",
       " 'Calmar Ratio': 3.9637458355988366,\n",
       " 'Maximum Drawdown': 24.845522251305383,\n",
       " 'Value at Risk': -4.5516439954160495,\n",
       " 'Expected Shortfall': -6.943011579064957,\n",
       " 'Security Prices': shape: (252,)\n",
       " Series: '' [f64]\n",
       " [\n",
       " \t75.087502\n",
       " \t74.357498\n",
       " \t74.949997\n",
       " \t74.597504\n",
       " \t75.797501\n",
       " \t77.407501\n",
       " \t77.582497\n",
       " \t79.239998\n",
       " \t78.169998\n",
       " \t77.834999\n",
       " \t78.809998\n",
       " \t79.682503\n",
       " \t…\n",
       " \t122.410004\n",
       " \t121.779999\n",
       " \t127.879997\n",
       " \t127.809998\n",
       " \t128.699997\n",
       " \t126.660004\n",
       " \t128.229996\n",
       " \t131.880005\n",
       " \t130.960007\n",
       " \t131.970001\n",
       " \t136.690002\n",
       " \t134.869995\n",
       " \t133.720001\n",
       " ],\n",
       " 'Security Returns': shape: (252,)\n",
       " Series: '' [f64]\n",
       " [\n",
       " \t0.0\n",
       " \t-0.972204\n",
       " \t0.796825\n",
       " \t-0.470305\n",
       " \t1.608629\n",
       " \t2.124081\n",
       " \t0.22607\n",
       " \t2.136437\n",
       " \t-1.350328\n",
       " \t-0.428552\n",
       " \t1.252648\n",
       " \t1.1071\n",
       " \t…\n",
       " \t-0.673478\n",
       " \t-0.514668\n",
       " \t5.009031\n",
       " \t-0.054739\n",
       " \t0.696346\n",
       " \t-1.585076\n",
       " \t1.239533\n",
       " \t2.846455\n",
       " \t-0.697602\n",
       " \t0.771224\n",
       " \t3.576571\n",
       " \t-1.331485\n",
       " \t-0.852668\n",
       " ],\n",
       " 'Benchmark Returns': shape: (252,)\n",
       " Series: '' [f64]\n",
       " [\n",
       " \t0.0\n",
       " \t-0.705987\n",
       " \t0.353337\n",
       " \t-0.280324\n",
       " \t0.490245\n",
       " \t0.665526\n",
       " \t-0.285518\n",
       " \t0.697622\n",
       " \t-0.151453\n",
       " \t0.18702\n",
       " \t0.836655\n",
       " \t0.386216\n",
       " \t…\n",
       " \t-0.1265\n",
       " \t-0.435926\n",
       " \t1.292125\n",
       " \t0.17728\n",
       " \t0.575765\n",
       " \t-0.351112\n",
       " \t-0.390628\n",
       " \t-0.207309\n",
       " \t0.074581\n",
       " \t0.353659\n",
       " \t0.872253\n",
       " \t-0.222738\n",
       " \t0.134155\n",
       " ]}"
      ]
     },
     "execution_count": 14,
     "metadata": {},
     "output_type": "execute_result"
    }
   ],
   "source": [
    "ticker.compute_performance_stats(start=\"2020-01-01\", end=\"2020-12-31\", interval=\"1d\", benchmark=\"^GSPC\", \n",
    "                                 confidence_level=0.95, risk_free_rate=0.02)"
   ]
  },
  {
   "cell_type": "code",
   "execution_count": 15,
   "id": "723c4fc6-839d-4169-aa69-5d780460a979",
   "metadata": {
    "tags": []
   },
   "outputs": [
    {
     "data": {
      "text/html": [
       "\n",
       "        <iframe\n",
       "            width=\"1000\"\n",
       "            height=\"800\"\n",
       "            src=\"performance_chart.html\"\n",
       "            frameborder=\"0\"\n",
       "            allowfullscreen\n",
       "            \n",
       "        ></iframe>\n",
       "        "
      ],
      "text/plain": [
       "<IPython.lib.display.IFrame at 0x107899090>"
      ]
     },
     "metadata": {},
     "output_type": "display_data"
    }
   ],
   "source": [
    "ticker.display_performance_chart(start=\"2023-01-01\", end=\"2023-11-10\", interval=\"1d\", benchmark=\"^GSPC\", \n",
    "                                 confidence_level=0.95, risk_free_rate=0.02, display_format=\"notebook\")"
   ]
  }
 ],
 "metadata": {
  "kernelspec": {
   "display_name": "Python 3 (ipykernel)",
   "language": "python",
   "name": "python3"
  },
  "language_info": {
   "codemirror_mode": {
    "name": "ipython",
    "version": 3
   },
   "file_extension": ".py",
   "mimetype": "text/x-python",
   "name": "python",
   "nbconvert_exporter": "python",
   "pygments_lexer": "ipython3",
   "version": "3.11.4"
  }
 },
 "nbformat": 4,
 "nbformat_minor": 5
}
